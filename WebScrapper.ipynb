{
 "cells": [
  {
   "cell_type": "code",
   "execution_count": 102,
   "metadata": {},
   "outputs": [],
   "source": [
    "import requests\n",
    "from bs4 import BeautifulSoup\n",
    "\n",
    "r=requests.get(\"https://www.century21.com/real-estate/mountain-view-ca/LCCAMOUNTAINVIEW/\")\n",
    "c=r.content\n",
    "\n",
    "soup=BeautifulSoup(c,\"html.parser\")\n",
    "all=soup.find_all(\"div\", {\"class\":\"property-card-primary-info\"})"
   ]
  },
  {
   "cell_type": "code",
   "execution_count": 103,
   "metadata": {},
   "outputs": [],
   "source": [
    "l=[]\n",
    "for item in all:\n",
    "    d={}\n",
    "    d[\"price\"]=item.find(\"a\", {\"class\":\"listing-price\"}).text.replace(\"\\n\",\"\").replace(\" \",\"\")\n",
    "    d[\"address\"]=item.find(\"div\", {\"class\":\"property-address\"}).text.replace(\"\\n\",\"\").replace(\"  \",\"\")\n",
    "    try:\n",
    "        d[\"baths\"]=item.find(\"div\", {\"class\":\"property-baths\"}).text.replace(\"\\n\",\"\").replace(\"  \",\"\")\n",
    "    except:\n",
    "        pass\n",
    "    try:\n",
    "        d[\"beds\"]=item.find(\"div\", {\"class\":\"property-beds\"}).text.replace(\"\\n\",\"\").replace(\"  \",\"\")\n",
    "    except:\n",
    "        pass\n",
    "    try:\n",
    "        d[\"sqft\"]=item.find(\"div\", {\"class\":\"property-sqft\"}).text.replace(\"\\n\",\"\").replace(\"  \",\"\")\n",
    "    except:\n",
    "        pass\n",
    "    try:\n",
    "        d[\"half-baths\"]=item.find(\"div\", {\"class\":\"property-half-baths\"}).text.replace(\"\\n\",\"\").replace(\"  \",\"\")\n",
    "    except:\n",
    "        pass\n",
    "    l.append(d)\n",
    "    "
   ]
  },
  {
   "cell_type": "code",
   "execution_count": 105,
   "metadata": {},
   "outputs": [
    {
     "data": {
      "text/plain": [
       "20"
      ]
     },
     "execution_count": 105,
     "metadata": {},
     "output_type": "execute_result"
    }
   ],
   "source": [
    "import pandas as pd\n",
    "df=pd.DataFrame(l)\n",
    "df.to_csv(\"real_estate_scrapping.csv\")\n",
    "len(df)"
   ]
  }
 ],
 "metadata": {
  "kernelspec": {
   "display_name": "Python 3",
   "language": "python",
   "name": "python3"
  },
  "language_info": {
   "codemirror_mode": {
    "name": "ipython",
    "version": 3
   },
   "file_extension": ".py",
   "mimetype": "text/x-python",
   "name": "python",
   "nbconvert_exporter": "python",
   "pygments_lexer": "ipython3",
   "version": "3.6.1"
  }
 },
 "nbformat": 4,
 "nbformat_minor": 2
}
